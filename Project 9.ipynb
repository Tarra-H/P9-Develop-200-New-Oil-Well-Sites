{
 "cells": [
  {
   "cell_type": "markdown",
   "metadata": {},
   "source": [
    "# Deskripsi Proyek\n",
    "- Kamu bekerja di perusahaan tambang OilyGiant. Nah, tugas kita adalah mencari tempat terbaik untuk mengembangkan 200 titik sumur minyak baru.\n",
    "\n",
    "- Untuk menyelesaikan tugas ini, kamu harus melakukan langkah-langkah berikut:\n",
    "    - Baca file dengan parameter yang dikumpulkan dari sumur-sumur minyak di wilayah terpilih: kualitas minyak dan volume cadangannya;\n",
    "    - Buat sebuah model untuk memprediksi volume cadangan di sumur-sumur baru;\n",
    "    - Pilih sumur minyak yang memiliki nilai estimasi tertinggi;\n",
    "    - Pilih wilayah dengan total keuntungan tertinggi dari sumur minyak yang dipilih.\n",
    "    \n",
    "- Kita memiliki data sampel minyak dari tiga wilayah. Parameter setiap sumur minyak di wilayah tersebut sudah diketahui. Buat sebuah model yang akan membantu kita memilih wilayah dengan margin keuntungan tertinggi. Jangan lupa, gunakan teknik bootstrapping untuk menganalisis potensi keuntungan dan risiko."
   ]
  },
  {
   "cell_type": "markdown",
   "metadata": {},
   "source": [
    "# Pendahuluan\n",
    "Pada saat melakukan analisis, kita perlu merumuskan beberapa hipotesis yang perlu kita uji lebih terlebih dahulu. Tidak semua hipotesis yang kita kerjakan bisa langsung digunakan, kita harus bisa memilih hipotesis mana yang paling tepat untuk menyelesaikan masalah-masalah yang ada pada data yang kita miliki. Untuk membuat keputusan yang tepat, kita harus memahami apakah asumsi yang kita buat sudah tepat atau belum."
   ]
  },
  {
   "cell_type": "markdown",
   "metadata": {},
   "source": [
    "# Tujuan\n",
    "Mencari tempat terbaik untuk mengembangkan 200 titik sumur minyak baru."
   ]
  },
  {
   "cell_type": "markdown",
   "metadata": {},
   "source": [
    "# Instruksi Proyek\n",
    "1. Unduh dan siapkan datanya. Jelaskan prosedur yang kamu lakukan.\n",
    "\n",
    "\n",
    "2. Latih dan uji model untuk setiap wilayah di 'geo_data_0.csv':\n",
    "\n",
    "     2.1. Pisahkan data menjadi training set dan validation set dengan rasio 75:25.\n",
    "     \n",
    "     2.2. Latih model dan buat prediksi untuk validation set.\n",
    "     \n",
    "     2.3. Simpan prediksi dan jawaban yang benar untuk validation set.\n",
    "     \n",
    "     2.4. Tampilkan prediksi volume rata-rata pemesanan dan RMSE dari model.\n",
    "     \n",
    "     2.5. Analisis hasilnya.\n",
    "     \n",
    "     2.6. Lakukan dan jalankan langkah 2.1-2.5 untuk file 'geo_data_1.csv' dan 'geo_data_2.csv'.\n",
    "     \n",
    "     \n",
    "3. Lakukan persiapan untuk menghitung laba:\n",
    "\n",
    "     3.1. Simpan semua nilai yang dibutuhkan untuk perhitungan laba pada variabel terpisah.\n",
    "     \n",
    "     3.2. Dengan investasi 100 juta untuk 200 sumur minyak, sebuah sumur minyak rata-rata harus menghasilkan setidaknya 500 ribu USD untuk menghindari kerugian (ini setara dengan 111,1 unit). Bandingkan jumlah ini dengan jumlah rata-rata pemesanan di setiap wilayah.\n",
    "     \n",
    "     3.3. Berikan kesimpulan terkait persiapan yang kamu lakukan dalam langkah penghitungan laba.\n",
    "     \n",
    "     \n",
    "4. Buat sebuah fungsi untuk menghitung laba dari kumpulan sumur minyak terpilih dan prediksi model:\n",
    "\n",
    "     4.1. Tuliskan sebuah fungsi untuk menghitung keuntungan dari sekumpulan sumur minyak terpilih dan prediksi modelnya: Pilih 200 sumur dengan nilai prediksi tertinggi dari masing-masing 3 wilayah (file 'csv').\n",
    "     \n",
    "     4.2. Buat rangkuman tentang target volume pemesanan berdasarkan prediksi ini. Simpan prediksi untuk 200 sumur di masing-masing dari 3 wilayah.\n",
    "     \n",
    "     4.3. Sampaikan kesimpulanmu: sarankan sebuah wilayah yang cocok untuk pengembangan sumur minyak dan berikan alasan atas pilihanmu. Hitung keuntungan untuk volume pemesanan yang diterima.\n",
    "     \n",
    "     \n",
    "5. Hitung risiko dan keuntungan untuk setiap wilayah:\n",
    "\n",
    "     5.1. Dengan menggunakan prediksi yang kamu simpan pada langkah 4.2, gunakan teknik bootstrapping dengan 1.000 sampel untuk menemukan distribusi profit.\n",
    "     \n",
    "     5.2. Temukan rata-rata profit, interval kepercayaan 95%, dan risiko kerugian. Kerugian adalah keuntungan negatif, hitung sebagai probabilitas dan kemudian nyatakan sebagai persentase.\n",
    "     \n",
    "     5.3. Sampaikan kesimpulanmu: sarankan sebuah wilayah yang cocok untuk pengembangan sumur minyak dan berikan alasan atas pilihanmu. Apakah pilihan ini sesuai dengan pilihanmu sebelumnya di poin 4.3?\n"
   ]
  },
  {
   "cell_type": "markdown",
   "metadata": {},
   "source": [
    "# Deskripsi Data\n",
    "Data eksplorasi geologi untuk ketiga wilayah disimpan dalam beberapa file:\n",
    "- geo_data_0.csv. unduh dataset\n",
    "- geo_data_1.csv. unduh dataset\n",
    "- geo_data_2.csv. unduh dataset\n",
    "- id — ID unik sumur minyak\n",
    "- f0, f1, f2 — tiga fitur titik wilayah (makna spesifiknya sebenarnya tidak penting, tetapi fitur itu sendiri sangat penting)\n",
    "- product — volume cadangan di dalam sumur minyak (1 unit = 1.000 barel).\n",
    "\n",
    "Kondisi:\n",
    "- Hanya regresi linear yang bisa digunakan untuk pelatihan model (sisanya tidak cukup mudah diprediksi).\n",
    "- Anggaran untuk pengembangan 200 sumur minyak ini adalah 100 juta dolar.\n",
    "- Satu barel minyak mentah menghasilkan pendapatan sebesar 4,5 dolar. Nah, pendapatan dari satu unit produk adalah $4.500 (volume cadangan ditulis dalam ribuan barel).\n",
    "- Setelah kamu menganalisis risiko yang ada, pertahankan hanya wilayah yang memiliki risiko kerugian kurang dari 2,5%. Di antara semua yang sesuai dengan kriteria, kamu harus memilih wilayah dengan keuntungan rata-rata tertinggi.\n",
    "\n",
    "NB:\n",
    "Oh ya, data ini hanya rekayasa belaka dan tidak mencakup rincian kontrak atau karakteristik sumur apa pun."
   ]
  },
  {
   "cell_type": "markdown",
   "metadata": {},
   "source": [
    "## Unduh dan Siapkan Datanya"
   ]
  },
  {
   "cell_type": "markdown",
   "metadata": {},
   "source": [
    "### Buka File Data"
   ]
  },
  {
   "cell_type": "code",
   "execution_count": 1,
   "metadata": {},
   "outputs": [],
   "source": [
    "# Import Library\n",
    "import pandas as pd\n",
    "import numpy as np\n",
    "\n",
    "import matplotlib.pyplot as plt\n",
    "import seaborn as sns"
   ]
  },
  {
   "cell_type": "code",
   "execution_count": 2,
   "metadata": {},
   "outputs": [],
   "source": [
    "# Unduh dataset (geo_data_0.csv, geo_data_1.csv, dan geo_data_2.csv)\n",
    "datageo0 = pd.read_csv(r'/datasets/geo_data_0.csv')\n",
    "datageo1 = pd.read_csv(r'/datasets/geo_data_1.csv')\n",
    "datageo2 = pd.read_csv(r'/datasets/geo_data_2.csv') \n"
   ]
  },
  {
   "cell_type": "markdown",
   "metadata": {},
   "source": [
    "### Muat File Data \"datageo0\" "
   ]
  },
  {
   "cell_type": "code",
   "execution_count": 3,
   "metadata": {},
   "outputs": [
    {
     "data": {
      "text/html": [
       "<div>\n",
       "<style scoped>\n",
       "    .dataframe tbody tr th:only-of-type {\n",
       "        vertical-align: middle;\n",
       "    }\n",
       "\n",
       "    .dataframe tbody tr th {\n",
       "        vertical-align: top;\n",
       "    }\n",
       "\n",
       "    .dataframe thead th {\n",
       "        text-align: right;\n",
       "    }\n",
       "</style>\n",
       "<table border=\"1\" class=\"dataframe\">\n",
       "  <thead>\n",
       "    <tr style=\"text-align: right;\">\n",
       "      <th></th>\n",
       "      <th>id</th>\n",
       "      <th>f0</th>\n",
       "      <th>f1</th>\n",
       "      <th>f2</th>\n",
       "      <th>product</th>\n",
       "    </tr>\n",
       "  </thead>\n",
       "  <tbody>\n",
       "    <tr>\n",
       "      <th>0</th>\n",
       "      <td>txEyH</td>\n",
       "      <td>0.705745</td>\n",
       "      <td>-0.497823</td>\n",
       "      <td>1.221170</td>\n",
       "      <td>105.280062</td>\n",
       "    </tr>\n",
       "    <tr>\n",
       "      <th>1</th>\n",
       "      <td>2acmU</td>\n",
       "      <td>1.334711</td>\n",
       "      <td>-0.340164</td>\n",
       "      <td>4.365080</td>\n",
       "      <td>73.037750</td>\n",
       "    </tr>\n",
       "    <tr>\n",
       "      <th>2</th>\n",
       "      <td>409Wp</td>\n",
       "      <td>1.022732</td>\n",
       "      <td>0.151990</td>\n",
       "      <td>1.419926</td>\n",
       "      <td>85.265647</td>\n",
       "    </tr>\n",
       "    <tr>\n",
       "      <th>3</th>\n",
       "      <td>iJLyR</td>\n",
       "      <td>-0.032172</td>\n",
       "      <td>0.139033</td>\n",
       "      <td>2.978566</td>\n",
       "      <td>168.620776</td>\n",
       "    </tr>\n",
       "    <tr>\n",
       "      <th>4</th>\n",
       "      <td>Xdl7t</td>\n",
       "      <td>1.988431</td>\n",
       "      <td>0.155413</td>\n",
       "      <td>4.751769</td>\n",
       "      <td>154.036647</td>\n",
       "    </tr>\n",
       "  </tbody>\n",
       "</table>\n",
       "</div>"
      ],
      "text/plain": [
       "      id        f0        f1        f2     product\n",
       "0  txEyH  0.705745 -0.497823  1.221170  105.280062\n",
       "1  2acmU  1.334711 -0.340164  4.365080   73.037750\n",
       "2  409Wp  1.022732  0.151990  1.419926   85.265647\n",
       "3  iJLyR -0.032172  0.139033  2.978566  168.620776\n",
       "4  Xdl7t  1.988431  0.155413  4.751769  154.036647"
      ]
     },
     "execution_count": 3,
     "metadata": {},
     "output_type": "execute_result"
    }
   ],
   "source": [
    "# Tampilkan 5 baris pertama \n",
    "datageo0.head()"
   ]
  },
  {
   "cell_type": "code",
   "execution_count": 4,
   "metadata": {
    "scrolled": false
   },
   "outputs": [
    {
     "name": "stdout",
     "output_type": "stream",
     "text": [
      "<class 'pandas.core.frame.DataFrame'>\n",
      "RangeIndex: 100000 entries, 0 to 99999\n",
      "Data columns (total 5 columns):\n",
      " #   Column   Non-Null Count   Dtype  \n",
      "---  ------   --------------   -----  \n",
      " 0   id       100000 non-null  object \n",
      " 1   f0       100000 non-null  float64\n",
      " 2   f1       100000 non-null  float64\n",
      " 3   f2       100000 non-null  float64\n",
      " 4   product  100000 non-null  float64\n",
      "dtypes: float64(4), object(1)\n",
      "memory usage: 3.8+ MB\n"
     ]
    }
   ],
   "source": [
    "# Informasi data\n",
    "datageo0.info()"
   ]
  },
  {
   "cell_type": "code",
   "execution_count": 5,
   "metadata": {},
   "outputs": [
    {
     "data": {
      "text/plain": [
       "(100000, 5)"
      ]
     },
     "execution_count": 5,
     "metadata": {},
     "output_type": "execute_result"
    }
   ],
   "source": [
    "# Check dimensi dataframe\n",
    "datageo0.shape"
   ]
  },
  {
   "cell_type": "code",
   "execution_count": 6,
   "metadata": {},
   "outputs": [
    {
     "data": {
      "text/plain": [
       "id         0\n",
       "f0         0\n",
       "f1         0\n",
       "f2         0\n",
       "product    0\n",
       "dtype: int64"
      ]
     },
     "execution_count": 6,
     "metadata": {},
     "output_type": "execute_result"
    }
   ],
   "source": [
    "# Check Missing Values\n",
    "datageo0.isnull().sum()"
   ]
  },
  {
   "cell_type": "code",
   "execution_count": 7,
   "metadata": {
    "scrolled": false
   },
   "outputs": [
    {
     "data": {
      "text/html": [
       "<div>\n",
       "<style scoped>\n",
       "    .dataframe tbody tr th:only-of-type {\n",
       "        vertical-align: middle;\n",
       "    }\n",
       "\n",
       "    .dataframe tbody tr th {\n",
       "        vertical-align: top;\n",
       "    }\n",
       "\n",
       "    .dataframe thead th {\n",
       "        text-align: right;\n",
       "    }\n",
       "</style>\n",
       "<table border=\"1\" class=\"dataframe\">\n",
       "  <thead>\n",
       "    <tr style=\"text-align: right;\">\n",
       "      <th></th>\n",
       "      <th>f0</th>\n",
       "      <th>f1</th>\n",
       "      <th>f2</th>\n",
       "      <th>product</th>\n",
       "    </tr>\n",
       "  </thead>\n",
       "  <tbody>\n",
       "    <tr>\n",
       "      <th>count</th>\n",
       "      <td>100000.000000</td>\n",
       "      <td>100000.000000</td>\n",
       "      <td>100000.000000</td>\n",
       "      <td>100000.000000</td>\n",
       "    </tr>\n",
       "    <tr>\n",
       "      <th>mean</th>\n",
       "      <td>0.500419</td>\n",
       "      <td>0.250143</td>\n",
       "      <td>2.502647</td>\n",
       "      <td>92.500000</td>\n",
       "    </tr>\n",
       "    <tr>\n",
       "      <th>std</th>\n",
       "      <td>0.871832</td>\n",
       "      <td>0.504433</td>\n",
       "      <td>3.248248</td>\n",
       "      <td>44.288691</td>\n",
       "    </tr>\n",
       "    <tr>\n",
       "      <th>min</th>\n",
       "      <td>-1.408605</td>\n",
       "      <td>-0.848218</td>\n",
       "      <td>-12.088328</td>\n",
       "      <td>0.000000</td>\n",
       "    </tr>\n",
       "    <tr>\n",
       "      <th>25%</th>\n",
       "      <td>-0.072580</td>\n",
       "      <td>-0.200881</td>\n",
       "      <td>0.287748</td>\n",
       "      <td>56.497507</td>\n",
       "    </tr>\n",
       "    <tr>\n",
       "      <th>50%</th>\n",
       "      <td>0.502360</td>\n",
       "      <td>0.250252</td>\n",
       "      <td>2.515969</td>\n",
       "      <td>91.849972</td>\n",
       "    </tr>\n",
       "    <tr>\n",
       "      <th>75%</th>\n",
       "      <td>1.073581</td>\n",
       "      <td>0.700646</td>\n",
       "      <td>4.715088</td>\n",
       "      <td>128.564089</td>\n",
       "    </tr>\n",
       "    <tr>\n",
       "      <th>max</th>\n",
       "      <td>2.362331</td>\n",
       "      <td>1.343769</td>\n",
       "      <td>16.003790</td>\n",
       "      <td>185.364347</td>\n",
       "    </tr>\n",
       "  </tbody>\n",
       "</table>\n",
       "</div>"
      ],
      "text/plain": [
       "                  f0             f1             f2        product\n",
       "count  100000.000000  100000.000000  100000.000000  100000.000000\n",
       "mean        0.500419       0.250143       2.502647      92.500000\n",
       "std         0.871832       0.504433       3.248248      44.288691\n",
       "min        -1.408605      -0.848218     -12.088328       0.000000\n",
       "25%        -0.072580      -0.200881       0.287748      56.497507\n",
       "50%         0.502360       0.250252       2.515969      91.849972\n",
       "75%         1.073581       0.700646       4.715088     128.564089\n",
       "max         2.362331       1.343769      16.003790     185.364347"
      ]
     },
     "execution_count": 7,
     "metadata": {},
     "output_type": "execute_result"
    }
   ],
   "source": [
    "# Informasi statistik deskriptif\n",
    "datageo0.describe()"
   ]
  },
  {
   "cell_type": "code",
   "execution_count": 8,
   "metadata": {},
   "outputs": [
    {
     "name": "stdout",
     "output_type": "stream",
     "text": [
      "Duplikasi Data : 0\n"
     ]
    }
   ],
   "source": [
    "# Check duplikasi data\n",
    "print(f'Duplikasi Data : {datageo0.duplicated().sum()}')"
   ]
  },
  {
   "cell_type": "markdown",
   "metadata": {},
   "source": [
    "### Muat File Data \"datageo1\""
   ]
  },
  {
   "cell_type": "code",
   "execution_count": 9,
   "metadata": {},
   "outputs": [
    {
     "data": {
      "text/html": [
       "<div>\n",
       "<style scoped>\n",
       "    .dataframe tbody tr th:only-of-type {\n",
       "        vertical-align: middle;\n",
       "    }\n",
       "\n",
       "    .dataframe tbody tr th {\n",
       "        vertical-align: top;\n",
       "    }\n",
       "\n",
       "    .dataframe thead th {\n",
       "        text-align: right;\n",
       "    }\n",
       "</style>\n",
       "<table border=\"1\" class=\"dataframe\">\n",
       "  <thead>\n",
       "    <tr style=\"text-align: right;\">\n",
       "      <th></th>\n",
       "      <th>id</th>\n",
       "      <th>f0</th>\n",
       "      <th>f1</th>\n",
       "      <th>f2</th>\n",
       "      <th>product</th>\n",
       "    </tr>\n",
       "  </thead>\n",
       "  <tbody>\n",
       "    <tr>\n",
       "      <th>0</th>\n",
       "      <td>kBEdx</td>\n",
       "      <td>-15.001348</td>\n",
       "      <td>-8.276000</td>\n",
       "      <td>-0.005876</td>\n",
       "      <td>3.179103</td>\n",
       "    </tr>\n",
       "    <tr>\n",
       "      <th>1</th>\n",
       "      <td>62mP7</td>\n",
       "      <td>14.272088</td>\n",
       "      <td>-3.475083</td>\n",
       "      <td>0.999183</td>\n",
       "      <td>26.953261</td>\n",
       "    </tr>\n",
       "    <tr>\n",
       "      <th>2</th>\n",
       "      <td>vyE1P</td>\n",
       "      <td>6.263187</td>\n",
       "      <td>-5.948386</td>\n",
       "      <td>5.001160</td>\n",
       "      <td>134.766305</td>\n",
       "    </tr>\n",
       "    <tr>\n",
       "      <th>3</th>\n",
       "      <td>KcrkZ</td>\n",
       "      <td>-13.081196</td>\n",
       "      <td>-11.506057</td>\n",
       "      <td>4.999415</td>\n",
       "      <td>137.945408</td>\n",
       "    </tr>\n",
       "    <tr>\n",
       "      <th>4</th>\n",
       "      <td>AHL4O</td>\n",
       "      <td>12.702195</td>\n",
       "      <td>-8.147433</td>\n",
       "      <td>5.004363</td>\n",
       "      <td>134.766305</td>\n",
       "    </tr>\n",
       "  </tbody>\n",
       "</table>\n",
       "</div>"
      ],
      "text/plain": [
       "      id         f0         f1        f2     product\n",
       "0  kBEdx -15.001348  -8.276000 -0.005876    3.179103\n",
       "1  62mP7  14.272088  -3.475083  0.999183   26.953261\n",
       "2  vyE1P   6.263187  -5.948386  5.001160  134.766305\n",
       "3  KcrkZ -13.081196 -11.506057  4.999415  137.945408\n",
       "4  AHL4O  12.702195  -8.147433  5.004363  134.766305"
      ]
     },
     "execution_count": 9,
     "metadata": {},
     "output_type": "execute_result"
    }
   ],
   "source": [
    "# Tampilkan 5 baris pertama \n",
    "datageo1.head()"
   ]
  },
  {
   "cell_type": "code",
   "execution_count": 10,
   "metadata": {},
   "outputs": [
    {
     "name": "stdout",
     "output_type": "stream",
     "text": [
      "<class 'pandas.core.frame.DataFrame'>\n",
      "RangeIndex: 100000 entries, 0 to 99999\n",
      "Data columns (total 5 columns):\n",
      " #   Column   Non-Null Count   Dtype  \n",
      "---  ------   --------------   -----  \n",
      " 0   id       100000 non-null  object \n",
      " 1   f0       100000 non-null  float64\n",
      " 2   f1       100000 non-null  float64\n",
      " 3   f2       100000 non-null  float64\n",
      " 4   product  100000 non-null  float64\n",
      "dtypes: float64(4), object(1)\n",
      "memory usage: 3.8+ MB\n"
     ]
    }
   ],
   "source": [
    "# Informasi data\n",
    "datageo1.info()"
   ]
  },
  {
   "cell_type": "code",
   "execution_count": 11,
   "metadata": {},
   "outputs": [
    {
     "data": {
      "text/plain": [
       "(100000, 5)"
      ]
     },
     "execution_count": 11,
     "metadata": {},
     "output_type": "execute_result"
    }
   ],
   "source": [
    "# Check dimensi dataframe\n",
    "datageo1.shape"
   ]
  },
  {
   "cell_type": "code",
   "execution_count": 12,
   "metadata": {},
   "outputs": [
    {
     "data": {
      "text/plain": [
       "id         0\n",
       "f0         0\n",
       "f1         0\n",
       "f2         0\n",
       "product    0\n",
       "dtype: int64"
      ]
     },
     "execution_count": 12,
     "metadata": {},
     "output_type": "execute_result"
    }
   ],
   "source": [
    "# Check Missing Values\n",
    "datageo1.isnull().sum()"
   ]
  },
  {
   "cell_type": "code",
   "execution_count": 13,
   "metadata": {},
   "outputs": [
    {
     "data": {
      "text/html": [
       "<div>\n",
       "<style scoped>\n",
       "    .dataframe tbody tr th:only-of-type {\n",
       "        vertical-align: middle;\n",
       "    }\n",
       "\n",
       "    .dataframe tbody tr th {\n",
       "        vertical-align: top;\n",
       "    }\n",
       "\n",
       "    .dataframe thead th {\n",
       "        text-align: right;\n",
       "    }\n",
       "</style>\n",
       "<table border=\"1\" class=\"dataframe\">\n",
       "  <thead>\n",
       "    <tr style=\"text-align: right;\">\n",
       "      <th></th>\n",
       "      <th>f0</th>\n",
       "      <th>f1</th>\n",
       "      <th>f2</th>\n",
       "      <th>product</th>\n",
       "    </tr>\n",
       "  </thead>\n",
       "  <tbody>\n",
       "    <tr>\n",
       "      <th>count</th>\n",
       "      <td>100000.000000</td>\n",
       "      <td>100000.000000</td>\n",
       "      <td>100000.000000</td>\n",
       "      <td>100000.000000</td>\n",
       "    </tr>\n",
       "    <tr>\n",
       "      <th>mean</th>\n",
       "      <td>1.141296</td>\n",
       "      <td>-4.796579</td>\n",
       "      <td>2.494541</td>\n",
       "      <td>68.825000</td>\n",
       "    </tr>\n",
       "    <tr>\n",
       "      <th>std</th>\n",
       "      <td>8.965932</td>\n",
       "      <td>5.119872</td>\n",
       "      <td>1.703572</td>\n",
       "      <td>45.944423</td>\n",
       "    </tr>\n",
       "    <tr>\n",
       "      <th>min</th>\n",
       "      <td>-31.609576</td>\n",
       "      <td>-26.358598</td>\n",
       "      <td>-0.018144</td>\n",
       "      <td>0.000000</td>\n",
       "    </tr>\n",
       "    <tr>\n",
       "      <th>25%</th>\n",
       "      <td>-6.298551</td>\n",
       "      <td>-8.267985</td>\n",
       "      <td>1.000021</td>\n",
       "      <td>26.953261</td>\n",
       "    </tr>\n",
       "    <tr>\n",
       "      <th>50%</th>\n",
       "      <td>1.153055</td>\n",
       "      <td>-4.813172</td>\n",
       "      <td>2.011479</td>\n",
       "      <td>57.085625</td>\n",
       "    </tr>\n",
       "    <tr>\n",
       "      <th>75%</th>\n",
       "      <td>8.621015</td>\n",
       "      <td>-1.332816</td>\n",
       "      <td>3.999904</td>\n",
       "      <td>107.813044</td>\n",
       "    </tr>\n",
       "    <tr>\n",
       "      <th>max</th>\n",
       "      <td>29.421755</td>\n",
       "      <td>18.734063</td>\n",
       "      <td>5.019721</td>\n",
       "      <td>137.945408</td>\n",
       "    </tr>\n",
       "  </tbody>\n",
       "</table>\n",
       "</div>"
      ],
      "text/plain": [
       "                  f0             f1             f2        product\n",
       "count  100000.000000  100000.000000  100000.000000  100000.000000\n",
       "mean        1.141296      -4.796579       2.494541      68.825000\n",
       "std         8.965932       5.119872       1.703572      45.944423\n",
       "min       -31.609576     -26.358598      -0.018144       0.000000\n",
       "25%        -6.298551      -8.267985       1.000021      26.953261\n",
       "50%         1.153055      -4.813172       2.011479      57.085625\n",
       "75%         8.621015      -1.332816       3.999904     107.813044\n",
       "max        29.421755      18.734063       5.019721     137.945408"
      ]
     },
     "execution_count": 13,
     "metadata": {},
     "output_type": "execute_result"
    }
   ],
   "source": [
    "# Informasi statistik deskriptif\n",
    "datageo1.describe()"
   ]
  },
  {
   "cell_type": "code",
   "execution_count": 14,
   "metadata": {},
   "outputs": [
    {
     "name": "stdout",
     "output_type": "stream",
     "text": [
      "Duplikasi Data : 0\n"
     ]
    }
   ],
   "source": [
    "# Check duplikasi data\n",
    "print(f'Duplikasi Data : {datageo1.duplicated().sum()}')"
   ]
  },
  {
   "cell_type": "markdown",
   "metadata": {},
   "source": [
    "### Muat File Data \"datageo2\""
   ]
  },
  {
   "cell_type": "code",
   "execution_count": 15,
   "metadata": {},
   "outputs": [
    {
     "data": {
      "text/html": [
       "<div>\n",
       "<style scoped>\n",
       "    .dataframe tbody tr th:only-of-type {\n",
       "        vertical-align: middle;\n",
       "    }\n",
       "\n",
       "    .dataframe tbody tr th {\n",
       "        vertical-align: top;\n",
       "    }\n",
       "\n",
       "    .dataframe thead th {\n",
       "        text-align: right;\n",
       "    }\n",
       "</style>\n",
       "<table border=\"1\" class=\"dataframe\">\n",
       "  <thead>\n",
       "    <tr style=\"text-align: right;\">\n",
       "      <th></th>\n",
       "      <th>id</th>\n",
       "      <th>f0</th>\n",
       "      <th>f1</th>\n",
       "      <th>f2</th>\n",
       "      <th>product</th>\n",
       "    </tr>\n",
       "  </thead>\n",
       "  <tbody>\n",
       "    <tr>\n",
       "      <th>0</th>\n",
       "      <td>fwXo0</td>\n",
       "      <td>-1.146987</td>\n",
       "      <td>0.963328</td>\n",
       "      <td>-0.828965</td>\n",
       "      <td>27.758673</td>\n",
       "    </tr>\n",
       "    <tr>\n",
       "      <th>1</th>\n",
       "      <td>WJtFt</td>\n",
       "      <td>0.262778</td>\n",
       "      <td>0.269839</td>\n",
       "      <td>-2.530187</td>\n",
       "      <td>56.069697</td>\n",
       "    </tr>\n",
       "    <tr>\n",
       "      <th>2</th>\n",
       "      <td>ovLUW</td>\n",
       "      <td>0.194587</td>\n",
       "      <td>0.289035</td>\n",
       "      <td>-5.586433</td>\n",
       "      <td>62.871910</td>\n",
       "    </tr>\n",
       "    <tr>\n",
       "      <th>3</th>\n",
       "      <td>q6cA6</td>\n",
       "      <td>2.236060</td>\n",
       "      <td>-0.553760</td>\n",
       "      <td>0.930038</td>\n",
       "      <td>114.572842</td>\n",
       "    </tr>\n",
       "    <tr>\n",
       "      <th>4</th>\n",
       "      <td>WPMUX</td>\n",
       "      <td>-0.515993</td>\n",
       "      <td>1.716266</td>\n",
       "      <td>5.899011</td>\n",
       "      <td>149.600746</td>\n",
       "    </tr>\n",
       "  </tbody>\n",
       "</table>\n",
       "</div>"
      ],
      "text/plain": [
       "      id        f0        f1        f2     product\n",
       "0  fwXo0 -1.146987  0.963328 -0.828965   27.758673\n",
       "1  WJtFt  0.262778  0.269839 -2.530187   56.069697\n",
       "2  ovLUW  0.194587  0.289035 -5.586433   62.871910\n",
       "3  q6cA6  2.236060 -0.553760  0.930038  114.572842\n",
       "4  WPMUX -0.515993  1.716266  5.899011  149.600746"
      ]
     },
     "execution_count": 15,
     "metadata": {},
     "output_type": "execute_result"
    }
   ],
   "source": [
    "# Tampilkan 5 baris pertama \n",
    "datageo2.head()"
   ]
  },
  {
   "cell_type": "code",
   "execution_count": 16,
   "metadata": {},
   "outputs": [
    {
     "name": "stdout",
     "output_type": "stream",
     "text": [
      "<class 'pandas.core.frame.DataFrame'>\n",
      "RangeIndex: 100000 entries, 0 to 99999\n",
      "Data columns (total 5 columns):\n",
      " #   Column   Non-Null Count   Dtype  \n",
      "---  ------   --------------   -----  \n",
      " 0   id       100000 non-null  object \n",
      " 1   f0       100000 non-null  float64\n",
      " 2   f1       100000 non-null  float64\n",
      " 3   f2       100000 non-null  float64\n",
      " 4   product  100000 non-null  float64\n",
      "dtypes: float64(4), object(1)\n",
      "memory usage: 3.8+ MB\n"
     ]
    }
   ],
   "source": [
    "# Informasi data\n",
    "datageo2.info()"
   ]
  },
  {
   "cell_type": "code",
   "execution_count": 17,
   "metadata": {},
   "outputs": [
    {
     "data": {
      "text/plain": [
       "(100000, 5)"
      ]
     },
     "execution_count": 17,
     "metadata": {},
     "output_type": "execute_result"
    }
   ],
   "source": [
    "# Check dimensi dataframe\n",
    "datageo2.shape"
   ]
  },
  {
   "cell_type": "code",
   "execution_count": 18,
   "metadata": {},
   "outputs": [
    {
     "data": {
      "text/plain": [
       "id         0\n",
       "f0         0\n",
       "f1         0\n",
       "f2         0\n",
       "product    0\n",
       "dtype: int64"
      ]
     },
     "execution_count": 18,
     "metadata": {},
     "output_type": "execute_result"
    }
   ],
   "source": [
    "# Check Missing Values\n",
    "datageo2.isnull().sum()"
   ]
  },
  {
   "cell_type": "code",
   "execution_count": 19,
   "metadata": {},
   "outputs": [
    {
     "data": {
      "text/html": [
       "<div>\n",
       "<style scoped>\n",
       "    .dataframe tbody tr th:only-of-type {\n",
       "        vertical-align: middle;\n",
       "    }\n",
       "\n",
       "    .dataframe tbody tr th {\n",
       "        vertical-align: top;\n",
       "    }\n",
       "\n",
       "    .dataframe thead th {\n",
       "        text-align: right;\n",
       "    }\n",
       "</style>\n",
       "<table border=\"1\" class=\"dataframe\">\n",
       "  <thead>\n",
       "    <tr style=\"text-align: right;\">\n",
       "      <th></th>\n",
       "      <th>f0</th>\n",
       "      <th>f1</th>\n",
       "      <th>f2</th>\n",
       "      <th>product</th>\n",
       "    </tr>\n",
       "  </thead>\n",
       "  <tbody>\n",
       "    <tr>\n",
       "      <th>count</th>\n",
       "      <td>100000.000000</td>\n",
       "      <td>100000.000000</td>\n",
       "      <td>100000.000000</td>\n",
       "      <td>100000.000000</td>\n",
       "    </tr>\n",
       "    <tr>\n",
       "      <th>mean</th>\n",
       "      <td>0.002023</td>\n",
       "      <td>-0.002081</td>\n",
       "      <td>2.495128</td>\n",
       "      <td>95.000000</td>\n",
       "    </tr>\n",
       "    <tr>\n",
       "      <th>std</th>\n",
       "      <td>1.732045</td>\n",
       "      <td>1.730417</td>\n",
       "      <td>3.473445</td>\n",
       "      <td>44.749921</td>\n",
       "    </tr>\n",
       "    <tr>\n",
       "      <th>min</th>\n",
       "      <td>-8.760004</td>\n",
       "      <td>-7.084020</td>\n",
       "      <td>-11.970335</td>\n",
       "      <td>0.000000</td>\n",
       "    </tr>\n",
       "    <tr>\n",
       "      <th>25%</th>\n",
       "      <td>-1.162288</td>\n",
       "      <td>-1.174820</td>\n",
       "      <td>0.130359</td>\n",
       "      <td>59.450441</td>\n",
       "    </tr>\n",
       "    <tr>\n",
       "      <th>50%</th>\n",
       "      <td>0.009424</td>\n",
       "      <td>-0.009482</td>\n",
       "      <td>2.484236</td>\n",
       "      <td>94.925613</td>\n",
       "    </tr>\n",
       "    <tr>\n",
       "      <th>75%</th>\n",
       "      <td>1.158535</td>\n",
       "      <td>1.163678</td>\n",
       "      <td>4.858794</td>\n",
       "      <td>130.595027</td>\n",
       "    </tr>\n",
       "    <tr>\n",
       "      <th>max</th>\n",
       "      <td>7.238262</td>\n",
       "      <td>7.844801</td>\n",
       "      <td>16.739402</td>\n",
       "      <td>190.029838</td>\n",
       "    </tr>\n",
       "  </tbody>\n",
       "</table>\n",
       "</div>"
      ],
      "text/plain": [
       "                  f0             f1             f2        product\n",
       "count  100000.000000  100000.000000  100000.000000  100000.000000\n",
       "mean        0.002023      -0.002081       2.495128      95.000000\n",
       "std         1.732045       1.730417       3.473445      44.749921\n",
       "min        -8.760004      -7.084020     -11.970335       0.000000\n",
       "25%        -1.162288      -1.174820       0.130359      59.450441\n",
       "50%         0.009424      -0.009482       2.484236      94.925613\n",
       "75%         1.158535       1.163678       4.858794     130.595027\n",
       "max         7.238262       7.844801      16.739402     190.029838"
      ]
     },
     "execution_count": 19,
     "metadata": {},
     "output_type": "execute_result"
    }
   ],
   "source": [
    "# Informasi statistik deskriptif\n",
    "datageo2.describe()"
   ]
  },
  {
   "cell_type": "code",
   "execution_count": 20,
   "metadata": {},
   "outputs": [
    {
     "name": "stdout",
     "output_type": "stream",
     "text": [
      "Duplikasi Data : 0\n"
     ]
    }
   ],
   "source": [
    "# Check duplikasi data\n",
    "print(f'Duplikasi Data : {datageo2.duplicated().sum()}')"
   ]
  },
  {
   "cell_type": "markdown",
   "metadata": {},
   "source": [
    "### Eksplorasi Data Tambahan"
   ]
  },
  {
   "cell_type": "markdown",
   "metadata": {},
   "source": [
    "#### Distribusi Variabel Target"
   ]
  },
  {
   "cell_type": "code",
   "execution_count": 21,
   "metadata": {},
   "outputs": [
    {
     "data": {
      "image/png": "[encoded data removed]",
      "text/plain": [
       "<Figure size 432x288 with 1 Axes>"
      ]
     },
     "metadata": {
      "needs_background": "light"
     },
     "output_type": "display_data"
    }
   ],
   "source": [
    "# Eksplorasi distribusi variabel target untuk setiap wilayah (datageo0)\n",
    "sns.histplot(datageo0['product'], bins=30, kde=True)\n",
    "plt.title('Distribution of Product for geo_data_0')\n",
    "plt.show()\n"
   ]
  },
  {
   "cell_type": "code",
   "execution_count": 22,
   "metadata": {},
   "outputs": [
    {
     "data": {
      "image/png": "[encoded data removed]",
      "text/plain": [
       "<Figure size 432x288 with 1 Axes>"
      ]
     },
     "metadata": {
      "needs_background": "light"
     },
     "output_type": "display_data"
    }
   ],
   "source": [
    "# Eksplorasi distribusi variabel target untuk setiap wilayah (datageo1)\n",
    "\n",
    "sns.histplot(datageo1['product'], bins=30, kde=True)\n",
    "plt.title('Distribution of Product for geo_data_1')\n",
    "plt.show()"
   ]
  },
  {
   "cell_type": "code",
   "execution_count": 23,
   "metadata": {},
   "outputs": [
    {
     "data": {
      "image/png": "[encoded data removed]",
      "text/plain": [
       "<Figure size 432x288 with 1 Axes>"
      ]
     },
     "metadata": {
      "needs_background": "light"
     },
     "output_type": "display_data"
    }
   ],
   "source": [
    "# Eksplorasi distribusi variabel target untuk setiap wilayah (datageo2)\n",
    "\n",
    "sns.histplot(datageo2['product'], bins=30, kde=True)\n",
    "plt.title('Distribution of Product for geo_data_2')\n",
    "plt.show()"
   ]
  },
  {
   "cell_type": "markdown",
   "metadata": {},
   "source": [
    "#### Korelasi antara Fitur dan Variabel Target"
   ]
  },
  {
   "cell_type": "code",
   "execution_count": 24,
   "metadata": {},
   "outputs": [],
   "source": [
    "# Eksplorasi korelasi antara fitur dan variabel target\n",
    "correlation_geo0 = datageo0.corr()['product'].drop('product')\n",
    "correlation_geo1 = datageo1.corr()['product'].drop('product')\n",
    "correlation_geo2 = datageo2.corr()['product'].drop('product')"
   ]
  },
  {
   "cell_type": "code",
   "execution_count": 25,
   "metadata": {},
   "outputs": [
    {
     "name": "stdout",
     "output_type": "stream",
     "text": [
      "Correlation with product for geo_data_0:\n",
      "f0    0.143536\n",
      "f1   -0.192356\n",
      "f2    0.483663\n",
      "Name: product, dtype: float64\n"
     ]
    }
   ],
   "source": [
    "print(\"Correlation with product for geo_data_0:\")\n",
    "print(correlation_geo0)"
   ]
  },
  {
   "cell_type": "code",
   "execution_count": 26,
   "metadata": {},
   "outputs": [
    {
     "name": "stdout",
     "output_type": "stream",
     "text": [
      "\n",
      "Correlation with product for geo_data_1:\n",
      "f0   -0.030491\n",
      "f1   -0.010155\n",
      "f2    0.999397\n",
      "Name: product, dtype: float64\n"
     ]
    }
   ],
   "source": [
    "print(\"\\nCorrelation with product for geo_data_1:\")\n",
    "print(correlation_geo1)"
   ]
  },
  {
   "cell_type": "code",
   "execution_count": 27,
   "metadata": {},
   "outputs": [
    {
     "name": "stdout",
     "output_type": "stream",
     "text": [
      "\n",
      "Correlation with product for geo_data_2:\n",
      "f0   -0.001987\n",
      "f1   -0.001012\n",
      "f2    0.445871\n",
      "Name: product, dtype: float64\n"
     ]
    }
   ],
   "source": [
    "print(\"\\nCorrelation with product for geo_data_2:\")\n",
    "print(correlation_geo2)"
   ]
  },
  {
   "cell_type": "markdown",
   "metadata": {},
   "source": [
    "**Kesimpulan Tahap 1:**\n",
    "- Tidak ada nilai yang hilang pada dataset.\n",
    "- Tidak ada duplikasi data pada setiap wilayah."
   ]
  },
  {
   "cell_type": "markdown",
   "metadata": {},
   "source": [
    "## Latih dan Ujilah Model untuk Setiap Wilayah\n",
    "\n",
    "- 2.1. Pisahkan data menjadi training set dan validation set dengan rasio 75:25.\n",
    "- 2.2. Latih model dan buat prediksi untuk validation set.\n",
    "- 2.3. Simpan prediksi dan jawaban yang benar untuk validation set.\n",
    "- 2.4. Tampilkan prediksi volume rata-rata pemesanan dan RMSE dari model.\n",
    "- 2.5. Analisis hasilnya.\n",
    "- 2.6. Lakukan dan jalankan langkah 2.1-2.5 untuk file 'geo_data_1.csv' dan 'geo_data_2.csv'."
   ]
  },
  {
   "cell_type": "code",
   "execution_count": 28,
   "metadata": {},
   "outputs": [],
   "source": [
    "# Import Library\n",
    "from sklearn.linear_model import LinearRegression\n",
    "from sklearn.model_selection import train_test_split\n",
    "from sklearn.metrics import mean_squared_error"
   ]
  },
  {
   "cell_type": "markdown",
   "metadata": {},
   "source": [
    "### Pisahkan data menjadi training set dan validation set dengan rasio 75:25\n",
    "- X untuk fitur \n",
    "- y untuk target"
   ]
  },
  {
   "cell_type": "markdown",
   "metadata": {},
   "source": [
    "#### geo_data_0"
   ]
  },
  {
   "cell_type": "code",
   "execution_count": 29,
   "metadata": {},
   "outputs": [],
   "source": [
    "# Pisahkan data untuk geo_data_0 \n",
    "X_geo0 = datageo0.drop(['id', 'product'], axis=1) #untuk fitur maka drop id dan product\n",
    "y_geo0 = datageo0['product'] #product adalah target\n",
    "Xtrain_geo0, Xvalid_geo0, ytrain_geo0, yvalid_geo0 = train_test_split(X_geo0, y_geo0, test_size=0.25, random_state=123)\n"
   ]
  },
  {
   "cell_type": "markdown",
   "metadata": {},
   "source": [
    "#### geo_data_1"
   ]
  },
  {
   "cell_type": "code",
   "execution_count": 30,
   "metadata": {},
   "outputs": [],
   "source": [
    "# Pisahkan data untuk geo_data_1\n",
    "X_geo1 = datageo1.drop(['id', 'product'], axis=1) #untuk fitur maka drop id dan product\n",
    "y_geo1 = datageo1['product'] #product adalah target\n",
    "Xtrain_geo1, Xvalid_geo1, ytrain_geo1, yvalid_geo1 = train_test_split(X_geo1, y_geo1, test_size=0.25, random_state=123)\n"
   ]
  },
  {
   "cell_type": "markdown",
   "metadata": {},
   "source": [
    "#### geo_data_2"
   ]
  },
  {
   "cell_type": "code",
   "execution_count": 31,
   "metadata": {},
   "outputs": [],
   "source": [
    "# Pisahkan data untuk geo_data_2\n",
    "X_geo2 = datageo2.drop(['id', 'product'], axis=1) #untuk fitur maka drop id dan product\n",
    "y_geo2 = datageo2['product'] #product adalah target\n",
    "Xtrain_geo2, Xvalid_geo2, ytrain_geo2, yvalid_geo2 = train_test_split(X_geo2, y_geo2, test_size=0.25, random_state=123)\n"
   ]
  },
  {
   "cell_type": "markdown",
   "metadata": {},
   "source": [
    "### Latih model dan buat prediksi untuk validation set"
   ]
  },
  {
   "cell_type": "markdown",
   "metadata": {},
   "source": [
    "####  geo_data_0"
   ]
  },
  {
   "cell_type": "code",
   "execution_count": 32,
   "metadata": {},
   "outputs": [
    {
     "data": {
      "text/plain": [
       "LinearRegression()"
      ]
     },
     "execution_count": 32,
     "metadata": {},
     "output_type": "execute_result"
    }
   ],
   "source": [
    "# Latih model untuk geo_data_0\n",
    "model_geo0 = LinearRegression()\n",
    "model_geo0.fit(Xtrain_geo0, ytrain_geo0)"
   ]
  },
  {
   "cell_type": "code",
   "execution_count": 33,
   "metadata": {},
   "outputs": [],
   "source": [
    "# Buat prediksi untuk validation set geo_data_0\n",
    "predictions_geo0 = model_geo0.predict(Xvalid_geo0)"
   ]
  },
  {
   "cell_type": "markdown",
   "metadata": {},
   "source": [
    "#### geo_data_1"
   ]
  },
  {
   "cell_type": "code",
   "execution_count": 34,
   "metadata": {},
   "outputs": [
    {
     "data": {
      "text/plain": [
       "LinearRegression()"
      ]
     },
     "execution_count": 34,
     "metadata": {},
     "output_type": "execute_result"
    }
   ],
   "source": [
    "# Latih model untuk geo_data_1\n",
    "model_geo1 = LinearRegression()\n",
    "model_geo1.fit(Xtrain_geo1, ytrain_geo1)"
   ]
  },
  {
   "cell_type": "code",
   "execution_count": 35,
   "metadata": {},
   "outputs": [],
   "source": [
    "# Buat prediksi untuk validation set geo_data_1\n",
    "predictions_geo1 = model_geo1.predict(Xvalid_geo1)"
   ]
  },
  {
   "cell_type": "markdown",
   "metadata": {},
   "source": [
    "####  geo_data_2"
   ]
  },
  {
   "cell_type": "code",
   "execution_count": 36,
   "metadata": {},
   "outputs": [
    {
     "data": {
      "text/plain": [
       "LinearRegression()"
      ]
     },
     "execution_count": 36,
     "metadata": {},
     "output_type": "execute_result"
    }
   ],
   "source": [
    "# Latih model untuk geo_data_2\n",
    "model_geo2 = LinearRegression()\n",
    "model_geo2.fit(Xtrain_geo2, ytrain_geo2)"
   ]
  },
  {
   "cell_type": "code",
   "execution_count": 37,
   "metadata": {},
   "outputs": [],
   "source": [
    "# Buat prediksi untuk validation set geo_data_2\n",
    "predictions_geo2 = model_geo2.predict(Xvalid_geo2)"
   ]
  },
  {
   "cell_type": "markdown",
   "metadata": {},
   "source": [
    "### Simpan prediksi dan jawaban yang benar untuk validation set"
   ]
  },
  {
   "cell_type": "markdown",
   "metadata": {},
   "source": [
    "#### geo_data_0"
   ]
  },
  {
   "cell_type": "code",
   "execution_count": 38,
   "metadata": {},
   "outputs": [
    {
     "data": {
      "text/html": [
       "<div>\n",
       "<style scoped>\n",
       "    .dataframe tbody tr th:only-of-type {\n",
       "        vertical-align: middle;\n",
       "    }\n",
       "\n",
       "    .dataframe tbody tr th {\n",
       "        vertical-align: top;\n",
       "    }\n",
       "\n",
       "    .dataframe thead th {\n",
       "        text-align: right;\n",
       "    }\n",
       "</style>\n",
       "<table border=\"1\" class=\"dataframe\">\n",
       "  <thead>\n",
       "    <tr style=\"text-align: right;\">\n",
       "      <th></th>\n",
       "      <th>true_values</th>\n",
       "      <th>predictions</th>\n",
       "    </tr>\n",
       "  </thead>\n",
       "  <tbody>\n",
       "    <tr>\n",
       "      <th>42083</th>\n",
       "      <td>145.825972</td>\n",
       "      <td>123.284256</td>\n",
       "    </tr>\n",
       "    <tr>\n",
       "      <th>71825</th>\n",
       "      <td>134.020212</td>\n",
       "      <td>75.838240</td>\n",
       "    </tr>\n",
       "    <tr>\n",
       "      <th>99535</th>\n",
       "      <td>88.905826</td>\n",
       "      <td>55.526760</td>\n",
       "    </tr>\n",
       "    <tr>\n",
       "      <th>47879</th>\n",
       "      <td>19.508226</td>\n",
       "      <td>86.673045</td>\n",
       "    </tr>\n",
       "    <tr>\n",
       "      <th>36734</th>\n",
       "      <td>108.713468</td>\n",
       "      <td>109.909327</td>\n",
       "    </tr>\n",
       "  </tbody>\n",
       "</table>\n",
       "</div>"
      ],
      "text/plain": [
       "       true_values  predictions\n",
       "42083   145.825972   123.284256\n",
       "71825   134.020212    75.838240\n",
       "99535    88.905826    55.526760\n",
       "47879    19.508226    86.673045\n",
       "36734   108.713468   109.909327"
      ]
     },
     "execution_count": 38,
     "metadata": {},
     "output_type": "execute_result"
    }
   ],
   "source": [
    "# Simpan prediksi dan jawaban yang benar untuk geo_data_0\n",
    "results_geo0 = pd.DataFrame({'true_values': yvalid_geo0, 'predictions': predictions_geo0})\n",
    "results_geo0.head()"
   ]
  },
  {
   "cell_type": "markdown",
   "metadata": {},
   "source": [
    "#### geo_data_1"
   ]
  },
  {
   "cell_type": "code",
   "execution_count": 39,
   "metadata": {},
   "outputs": [
    {
     "data": {
      "text/html": [
       "<div>\n",
       "<style scoped>\n",
       "    .dataframe tbody tr th:only-of-type {\n",
       "        vertical-align: middle;\n",
       "    }\n",
       "\n",
       "    .dataframe tbody tr th {\n",
       "        vertical-align: top;\n",
       "    }\n",
       "\n",
       "    .dataframe thead th {\n",
       "        text-align: right;\n",
       "    }\n",
       "</style>\n",
       "<table border=\"1\" class=\"dataframe\">\n",
       "  <thead>\n",
       "    <tr style=\"text-align: right;\">\n",
       "      <th></th>\n",
       "      <th>true_values</th>\n",
       "      <th>predictions</th>\n",
       "    </tr>\n",
       "  </thead>\n",
       "  <tbody>\n",
       "    <tr>\n",
       "      <th>42083</th>\n",
       "      <td>57.085625</td>\n",
       "      <td>56.056314</td>\n",
       "    </tr>\n",
       "    <tr>\n",
       "      <th>71825</th>\n",
       "      <td>80.859783</td>\n",
       "      <td>81.589811</td>\n",
       "    </tr>\n",
       "    <tr>\n",
       "      <th>99535</th>\n",
       "      <td>53.906522</td>\n",
       "      <td>54.461926</td>\n",
       "    </tr>\n",
       "    <tr>\n",
       "      <th>47879</th>\n",
       "      <td>107.813044</td>\n",
       "      <td>108.660979</td>\n",
       "    </tr>\n",
       "    <tr>\n",
       "      <th>36734</th>\n",
       "      <td>53.906522</td>\n",
       "      <td>54.479416</td>\n",
       "    </tr>\n",
       "  </tbody>\n",
       "</table>\n",
       "</div>"
      ],
      "text/plain": [
       "       true_values  predictions\n",
       "42083    57.085625    56.056314\n",
       "71825    80.859783    81.589811\n",
       "99535    53.906522    54.461926\n",
       "47879   107.813044   108.660979\n",
       "36734    53.906522    54.479416"
      ]
     },
     "execution_count": 39,
     "metadata": {},
     "output_type": "execute_result"
    }
   ],
   "source": [
    "# Simpan prediksi dan jawaban yang benar untuk geo_data_1\n",
    "results_geo1 = pd.DataFrame({'true_values': yvalid_geo1, 'predictions': predictions_geo1})\n",
    "results_geo1.head()"
   ]
  },
  {
   "cell_type": "markdown",
   "metadata": {},
   "source": [
    "#### geo_data_2"
   ]
  },
  {
   "cell_type": "code",
   "execution_count": 40,
   "metadata": {
    "scrolled": true
   },
   "outputs": [
    {
     "data": {
      "text/html": [
       "<div>\n",
       "<style scoped>\n",
       "    .dataframe tbody tr th:only-of-type {\n",
       "        vertical-align: middle;\n",
       "    }\n",
       "\n",
       "    .dataframe tbody tr th {\n",
       "        vertical-align: top;\n",
       "    }\n",
       "\n",
       "    .dataframe thead th {\n",
       "        text-align: right;\n",
       "    }\n",
       "</style>\n",
       "<table border=\"1\" class=\"dataframe\">\n",
       "  <thead>\n",
       "    <tr style=\"text-align: right;\">\n",
       "      <th></th>\n",
       "      <th>true_values</th>\n",
       "      <th>predictions</th>\n",
       "    </tr>\n",
       "  </thead>\n",
       "  <tbody>\n",
       "    <tr>\n",
       "      <th>42083</th>\n",
       "      <td>147.451978</td>\n",
       "      <td>94.075161</td>\n",
       "    </tr>\n",
       "    <tr>\n",
       "      <th>71825</th>\n",
       "      <td>128.711794</td>\n",
       "      <td>122.604414</td>\n",
       "    </tr>\n",
       "    <tr>\n",
       "      <th>99535</th>\n",
       "      <td>106.628185</td>\n",
       "      <td>80.055039</td>\n",
       "    </tr>\n",
       "    <tr>\n",
       "      <th>47879</th>\n",
       "      <td>128.787131</td>\n",
       "      <td>100.175906</td>\n",
       "    </tr>\n",
       "    <tr>\n",
       "      <th>36734</th>\n",
       "      <td>159.328488</td>\n",
       "      <td>89.804044</td>\n",
       "    </tr>\n",
       "  </tbody>\n",
       "</table>\n",
       "</div>"
      ],
      "text/plain": [
       "       true_values  predictions\n",
       "42083   147.451978    94.075161\n",
       "71825   128.711794   122.604414\n",
       "99535   106.628185    80.055039\n",
       "47879   128.787131   100.175906\n",
       "36734   159.328488    89.804044"
      ]
     },
     "execution_count": 40,
     "metadata": {},
     "output_type": "execute_result"
    }
   ],
   "source": [
    "# Simpan prediksi dan jawaban yang benar untuk geo_data_2\n",
    "results_geo2 = pd.DataFrame({'true_values': yvalid_geo2, 'predictions': predictions_geo2})\n",
    "results_geo2.head()"
   ]
  },
  {
   "cell_type": "markdown",
   "metadata": {},
   "source": [
    "### Tampilkan prediksi volume rata-rata pemesanan dan RMSE dari model."
   ]
  },
  {
   "cell_type": "markdown",
   "metadata": {},
   "source": [
    "#### geo_data_0"
   ]
  },
  {
   "cell_type": "code",
   "execution_count": 41,
   "metadata": {},
   "outputs": [
    {
     "name": "stdout",
     "output_type": "stream",
     "text": [
      "Prediksi Volume Rata-Rata untuk geo_data_0 = 92.54936189116306\n",
      "RMSE untuk geo_data_0 = 37.64786282376176\n"
     ]
    }
   ],
   "source": [
    "# Tampilkan prediksi volume rata-rata pemesanan dan RMSE untuk geo_data_0\n",
    "print(\"Prediksi Volume Rata-Rata untuk geo_data_0 =\", results_geo0['predictions'].mean())\n",
    "print(\"RMSE untuk geo_data_0 =\", np.sqrt(mean_squared_error(results_geo0['true_values'], results_geo0['predictions'])))"
   ]
  },
  {
   "cell_type": "markdown",
   "metadata": {},
   "source": [
    "#### geo_data_1"
   ]
  },
  {
   "cell_type": "code",
   "execution_count": 42,
   "metadata": {},
   "outputs": [
    {
     "name": "stdout",
     "output_type": "stream",
     "text": [
      "Prediksi Volume Rata-Rata untuk geo_data_1 = 69.28001860653976\n",
      "RMSE untuk geo_data_1 = 0.8954139804944313\n"
     ]
    }
   ],
   "source": [
    "# Tampilkan prediksi volume rata-rata pemesanan dan RMSE untuk geo_data_1\n",
    "print(\"Prediksi Volume Rata-Rata untuk geo_data_1 =\", results_geo1['predictions'].mean())\n",
    "print(\"RMSE untuk geo_data_1 =\", np.sqrt(mean_squared_error(results_geo1['true_values'], results_geo1['predictions'])))"
   ]
  },
  {
   "cell_type": "markdown",
   "metadata": {},
   "source": [
    "#### geo_data_2"
   ]
  },
  {
   "cell_type": "code",
   "execution_count": 43,
   "metadata": {},
   "outputs": [
    {
     "name": "stdout",
     "output_type": "stream",
     "text": [
      "Prediksi Volume Rata-Rata untuk geo_data_2 = 95.09859933591373\n",
      "RMSE untuk geo_data_2 = 40.12803006598514\n"
     ]
    }
   ],
   "source": [
    "# Tampilkan prediksi volume rata-rata pemesanan dan RMSE untuk geo_data_2\n",
    "print(\"Prediksi Volume Rata-Rata untuk geo_data_2 =\", results_geo2['predictions'].mean())\n",
    "print(\"RMSE untuk geo_data_2 =\", np.sqrt(mean_squared_error(results_geo2['true_values'], results_geo2['predictions'])))"
   ]
  },
  {
   "cell_type": "markdown",
   "metadata": {},
   "source": [
    "### Analisis hasilnya."
   ]
  },
  {
   "cell_type": "markdown",
   "metadata": {},
   "source": [
    "**geo_data_0**\n",
    "- Prediksi Volume Rata-Rata: 92.55\n",
    "- RMSE (Root Mean Squared Error): 37.65\n",
    "\n",
    "**geo_data_1**\n",
    "- Prediksi Volume Rata-Rata: 69.28\n",
    "- RMSE: 0.90\n",
    "\n",
    "**geo_data_2**\n",
    "- Prediksi Volume Rata-Rata: 95.10\n",
    "- RMSE: 40.13\n",
    "\n",
    "**Kesimpulan Tahap 2 (Analisis Hasil):**\n",
    "- Geo_data_1 memiliki kinerja model yang paling baik dengan nilai RMSE yang rendah. Hal ini menunjukkan bawwa pediksi volume pemesanan cenderung akurat"
   ]
  },
  {
   "cell_type": "markdown",
   "metadata": {},
   "source": [
    "## Persiapan Menghitung Laba"
   ]
  },
  {
   "cell_type": "markdown",
   "metadata": {},
   "source": [
    "### Simpan semua nilai yang dibutuhkan untuk perhitungan laba pada variabel terpisah."
   ]
  },
  {
   "cell_type": "code",
   "execution_count": 44,
   "metadata": {},
   "outputs": [],
   "source": [
    "# Investasi untuk 200 sumur minyak\n",
    "investasi = 100_000_000\n",
    "\n",
    "# Pendapatan dari satu barel minyak mentah\n",
    "pendapatan_per_barel = 4_500\n",
    "\n",
    "# Volume pemesanan minimum untuk menghindari kerugian\n",
    "volume_pemesanan_minimum = investasi / (pendapatan_per_barel * 1_000)"
   ]
  },
  {
   "cell_type": "code",
   "execution_count": 45,
   "metadata": {},
   "outputs": [
    {
     "name": "stdout",
     "output_type": "stream",
     "text": [
      "Volume Pemesanan Minimum yang Diperlukan 22.22222222222222\n"
     ]
    }
   ],
   "source": [
    "# Tampilkan \n",
    "print(\"Volume Pemesanan Minimum yang Diperlukan\", volume_pemesanan_minimum)"
   ]
  },
  {
   "cell_type": "markdown",
   "metadata": {},
   "source": [
    "### Bandingkan jumlah ini dengan jumlah rata-rata pemesanan di setiap wilayah"
   ]
  },
  {
   "cell_type": "code",
   "execution_count": 46,
   "metadata": {},
   "outputs": [],
   "source": [
    "# Bandingkan volume pemesanan minimum dengan jumlah rata-rata pemesanan di setiap wilayah\n",
    "average_order_volume_geo0 = results_geo0['predictions'].mean()\n",
    "average_order_volume_geo1 = results_geo1['predictions'].mean()\n",
    "average_order_volume_geo2 = results_geo2['predictions'].mean()"
   ]
  },
  {
   "cell_type": "code",
   "execution_count": 47,
   "metadata": {},
   "outputs": [
    {
     "name": "stdout",
     "output_type": "stream",
     "text": [
      "Volume Pemesanan Minimum yang Diperlukan 22.22222222222222\n",
      "\n",
      "Jumlah Rata-Rata Pemesanan di geo_data_0: 92.54936189116306\n",
      "Jumlah Rata-Rata Pemesanan di geo_data_1: 69.28001860653976\n",
      "Jumlah Rata-Rata Pemesanan di geo_data_2: 95.09859933591373\n"
     ]
    }
   ],
   "source": [
    "# Tampilkan Hasilnya (Bandingkan dengan Volume Pemesanan Minimum yang Diperlukan)\n",
    "print(\"Volume Pemesanan Minimum yang Diperlukan\", volume_pemesanan_minimum)\n",
    "print(\"\\nJumlah Rata-Rata Pemesanan di geo_data_0:\", average_order_volume_geo0)\n",
    "print(\"Jumlah Rata-Rata Pemesanan di geo_data_1:\", average_order_volume_geo1)\n",
    "print(\"Jumlah Rata-Rata Pemesanan di geo_data_2:\", average_order_volume_geo2)"
   ]
  },
  {
   "cell_type": "markdown",
   "metadata": {},
   "source": [
    "**Kesimpulan Tahap 3:**\n",
    "- Volume pemesanan minimum yang diperlukan untuk menghindari kerugian = 22.22 unit barel. \n",
    "- Jumlah rata-rata pemesanan di setiap wilayah:\n",
    "    - geo_data_0: 92.55 unit\n",
    "    - geo_data_1: 69.28 unit\n",
    "    - geo_data_2: 95.10 unit"
   ]
  },
  {
   "cell_type": "markdown",
   "metadata": {},
   "source": [
    "## Fungsi untuk Menghitung Laba dari Kumpulan Sumur inyak Terpilih dan Prediksi Model"
   ]
  },
  {
   "cell_type": "markdown",
   "metadata": {},
   "source": [
    "### Tuliskan Fungsi untuk Menghitung Keuntungan dari Sekumpulan Sumur Minyak Terpilih dan Prediksi Modelnya"
   ]
  },
  {
   "cell_type": "code",
   "execution_count": 48,
   "metadata": {},
   "outputs": [],
   "source": [
    "def calculate_profit(selected_wells, predictions):\n",
    "    selected_predictions = predictions.loc[selected_wells]\n",
    "    total_volume = selected_predictions.sum()\n",
    "    total_profit = total_volume * pendapatan_per_barel\n",
    "    return total_profit"
   ]
  },
  {
   "cell_type": "markdown",
   "metadata": {},
   "source": [
    "### Buat Rangkuman tentang Target Volume Pemesanan Berdasarkan Prediksi Ini"
   ]
  },
  {
   "cell_type": "code",
   "execution_count": 49,
   "metadata": {},
   "outputs": [],
   "source": [
    "# Pilih 200 sumur dengan nilai prediksi tertinggi dari masing-masing 3 wilayah\n",
    "selected_wells_geo0 = results_geo0.nlargest(200, 'predictions')['true_values'].index\n",
    "selected_wells_geo1 = results_geo1.nlargest(200, 'predictions')['true_values'].index\n",
    "selected_wells_geo2 = results_geo2.nlargest(200, 'predictions')['true_values'].index"
   ]
  },
  {
   "cell_type": "code",
   "execution_count": 50,
   "metadata": {},
   "outputs": [],
   "source": [
    "# Buat rangkuman tentang target volume pemesanan berdasarkan prediksi ini\n",
    "target_volume_geo0 = results_geo0.loc[selected_wells_geo0]['predictions'].sum()\n",
    "target_volume_geo1 = results_geo1.loc[selected_wells_geo1]['predictions'].sum()\n",
    "target_volume_geo2 = results_geo2.loc[selected_wells_geo2]['predictions'].sum()"
   ]
  },
  {
   "cell_type": "code",
   "execution_count": 51,
   "metadata": {},
   "outputs": [
    {
     "name": "stdout",
     "output_type": "stream",
     "text": [
      "Target Volume Pemesanan di geo_data_0: 31034.787805093576\n",
      "Target Volume Pemesanan di geo_data_1: 27755.76198279395\n",
      "Target Volume Pemesanan di geo_data_2: 29943.443110391767\n"
     ]
    }
   ],
   "source": [
    "# Tampilkan\n",
    "print(\"Target Volume Pemesanan di geo_data_0:\", target_volume_geo0)\n",
    "print(\"Target Volume Pemesanan di geo_data_1:\", target_volume_geo1)\n",
    "print(\"Target Volume Pemesanan di geo_data_2:\", target_volume_geo2)"
   ]
  },
  {
   "cell_type": "markdown",
   "metadata": {},
   "source": [
    "### Sampaikan Kesimpulanmu"
   ]
  },
  {
   "cell_type": "code",
   "execution_count": 52,
   "metadata": {},
   "outputs": [
    {
     "name": "stdout",
     "output_type": "stream",
     "text": [
      "\n",
      "Kesimpulan:\n",
      "Berdasarkan prediksi model, pilih wilayah yang memiliki target volume pemesanan tertinggi.\n",
      "Wilayah dengan target volume tertinggi adalah:\n",
      "geo_data_0\n"
     ]
    }
   ],
   "source": [
    "# Sampaikan kesimpulanmu\n",
    "print(\"\\nKesimpulan:\")\n",
    "print(\"Berdasarkan prediksi model, pilih wilayah yang memiliki target volume pemesanan tertinggi.\")\n",
    "print(\"Wilayah dengan target volume tertinggi adalah:\")\n",
    "if target_volume_geo0 > target_volume_geo1 and target_volume_geo0 > target_volume_geo2:\n",
    "    print(\"geo_data_0\")\n",
    "elif target_volume_geo1 > target_volume_geo0 and target_volume_geo1 > target_volume_geo2:\n",
    "    print(\"geo_data_1\")\n",
    "else:\n",
    "    print(\"geo_data_2\")\n"
   ]
  },
  {
   "cell_type": "code",
   "execution_count": 53,
   "metadata": {},
   "outputs": [],
   "source": [
    "# Hitung keuntungan untuk volume pemesanan yang diterima\n",
    "profit_geo0 = calculate_profit(selected_wells_geo0, results_geo0['predictions'])\n",
    "profit_geo1 = calculate_profit(selected_wells_geo1, results_geo1['predictions'])\n",
    "profit_geo2 = calculate_profit(selected_wells_geo2, results_geo2['predictions'])"
   ]
  },
  {
   "cell_type": "code",
   "execution_count": 54,
   "metadata": {},
   "outputs": [
    {
     "name": "stdout",
     "output_type": "stream",
     "text": [
      "\n",
      "Keuntungan yang Diperoleh:\n",
      "Keuntungan di geo_data_0: 139656545.12292108\n",
      "Keuntungan di geo_data_1: 124900928.92257278\n",
      "Keuntungan di geo_data_2: 134745493.99676296\n"
     ]
    }
   ],
   "source": [
    "#Tampilkan\n",
    "print(\"\\nKeuntungan yang Diperoleh:\")\n",
    "print(\"Keuntungan di geo_data_0:\", profit_geo0)\n",
    "print(\"Keuntungan di geo_data_1:\", profit_geo1)\n",
    "print(\"Keuntungan di geo_data_2:\", profit_geo2)"
   ]
  },
  {
   "cell_type": "markdown",
   "metadata": {},
   "source": [
    "**Kesimpulan Tahap 4:**\n",
    "- Wilayah dengan target volume tertinggi: geo_data_0\n",
    "- Keuntungan yang diperoleh:\n",
    "    - Keuntungan di geo_data_0: 139,656,545.12\n",
    "    - Keuntungan di geo_data_1: 124,900,928.92\n",
    "    - Keuntungan di geo_data_2: 134,745,493.99\n",
    "    \n",
    "Jadi, berdasarkan prediksi model dan target volume pemesanan tertinggi, wilayah yang dipilih untuk investasi adalah geo_data_0, yang memberikan keuntungan yang lebih tinggi dibandingkan dengan wilayah lainnya."
   ]
  },
  {
   "cell_type": "markdown",
   "metadata": {},
   "source": [
    "## Hitung Risiko dan Keuntungan untuk Setiap Wilayah"
   ]
  },
  {
   "cell_type": "markdown",
   "metadata": {},
   "source": [
    "### Dengan Menggunakan Prediksi yang Kamu Simpan pada Langkah 4.2"
   ]
  },
  {
   "cell_type": "code",
   "execution_count": 55,
   "metadata": {},
   "outputs": [],
   "source": [
    "# Gunakan teknik bootstrapping dengan 1,000 sampel untuk menemukan distribusi profit\n",
    "def calculate_bootstrapped_profit(predictions, n_samples=1000):\n",
    "    bootstrapped_profits = []\n",
    "    for _ in range(n_samples):\n",
    "        sample_predictions = predictions.sample(frac=1, replace=True)\n",
    "        total_volume = sample_predictions.sum()\n",
    "        total_profit = total_volume * pendapatan_per_barel\n",
    "        bootstrapped_profits.append(total_profit)\n",
    "    return bootstrapped_profits"
   ]
  },
  {
   "cell_type": "code",
   "execution_count": 56,
   "metadata": {},
   "outputs": [],
   "source": [
    "# Hitung bootstrapped profit untuk setiap wilayah\n",
    "bootstrapped_profits_geo0 = calculate_bootstrapped_profit(results_geo0['predictions'])\n",
    "bootstrapped_profits_geo1 = calculate_bootstrapped_profit(results_geo1['predictions'])\n",
    "bootstrapped_profits_geo2 = calculate_bootstrapped_profit(results_geo2['predictions'])"
   ]
  },
  {
   "cell_type": "markdown",
   "metadata": {},
   "source": [
    "### Temukan Rata-Rata Profit, Interval Kepercayaan 95%, dan Risiko Kerugian"
   ]
  },
  {
   "cell_type": "code",
   "execution_count": 57,
   "metadata": {},
   "outputs": [],
   "source": [
    "# Temukan rata-rata profit, interval kepercayaan 95%, dan risiko kerugian\n",
    "def calculate_confidence_interval_and_risk(profits):\n",
    "    mean_profit = np.mean(profits)\n",
    "    confidence_interval = np.percentile(profits, [2.5, 97.5])\n",
    "    risk_of_loss = np.mean(np.array(profits) < 0) * 100\n",
    "    return mean_profit, confidence_interval, risk_of_loss"
   ]
  },
  {
   "cell_type": "code",
   "execution_count": 58,
   "metadata": {},
   "outputs": [],
   "source": [
    "# Hitung untuk setiap wilayah\n",
    "mean_profit_geo0, confidence_interval_geo0, risk_of_loss_geo0 = calculate_confidence_interval_and_risk(bootstrapped_profits_geo0)\n",
    "mean_profit_geo1, confidence_interval_geo1, risk_of_loss_geo1 = calculate_confidence_interval_and_risk(bootstrapped_profits_geo1)\n",
    "mean_profit_geo2, confidence_interval_geo2, risk_of_loss_geo2 = calculate_confidence_interval_and_risk(bootstrapped_profits_geo2)"
   ]
  },
  {
   "cell_type": "code",
   "execution_count": 59,
   "metadata": {},
   "outputs": [
    {
     "name": "stdout",
     "output_type": "stream",
     "text": [
      "Hasil Analisis Bootstrapping:\n",
      "\n",
      "Analisis untuk geo_data_0:\n",
      "Rata-rata Keuntungan: 10411234014.333914\n",
      "Interval Kepercayaan 95%: [1.03786577e+10 1.04436615e+10]\n",
      "Risiko Kerugian (%): 0.0\n",
      "\n",
      "Analisis untuk geo_data_1:\n",
      "Rata-rata Keuntungan: 7792693708.517089\n",
      "Interval Kepercayaan 95%: [7.72226280e+09 7.85377806e+09]\n",
      "Risiko Kerugian (%): 0.0\n",
      "\n",
      "Analisis untuk geo_data_2:\n",
      "Rata-rata Keuntungan: 10698681205.955364\n",
      "Interval Kepercayaan 95%: [1.06696591e+10 1.07274522e+10]\n",
      "Risiko Kerugian (%): 0.0\n"
     ]
    }
   ],
   "source": [
    "# Tampilkan hasil\n",
    "print(\"Hasil Analisis Bootstrapping:\")\n",
    "print(\"\\nAnalisis untuk geo_data_0:\")\n",
    "print(\"Rata-rata Keuntungan:\", mean_profit_geo0)\n",
    "print(\"Interval Kepercayaan 95%:\", confidence_interval_geo0)\n",
    "print(\"Risiko Kerugian (%):\", risk_of_loss_geo0)\n",
    "\n",
    "print(\"\\nAnalisis untuk geo_data_1:\")\n",
    "print(\"Rata-rata Keuntungan:\", mean_profit_geo1)\n",
    "print(\"Interval Kepercayaan 95%:\", confidence_interval_geo1)\n",
    "print(\"Risiko Kerugian (%):\", risk_of_loss_geo1)\n",
    "\n",
    "print(\"\\nAnalisis untuk geo_data_2:\")\n",
    "print(\"Rata-rata Keuntungan:\", mean_profit_geo2)\n",
    "print(\"Interval Kepercayaan 95%:\", confidence_interval_geo2)\n",
    "print(\"Risiko Kerugian (%):\", risk_of_loss_geo2)"
   ]
  },
  {
   "cell_type": "markdown",
   "metadata": {},
   "source": [
    "###  Sampaikan kesimpulanmu: sarankan sebuah wilayah yang cocok untuk pengembangan sumur minyak dan berikan alasan atas pilihanmu. Apakah pilihan ini sesuai dengan pilihanmu sebelumnya di poin 4.3?"
   ]
  },
  {
   "cell_type": "code",
   "execution_count": 60,
   "metadata": {},
   "outputs": [
    {
     "name": "stdout",
     "output_type": "stream",
     "text": [
      "\n",
      "Rekomendasi Akhir:\n",
      "geo_data_2\n"
     ]
    }
   ],
   "source": [
    "# Check apakah rekomendasi sesuai dengan hasil analisis risiko dan keuntungan\n",
    "if risk_of_loss_geo0 < 2.5 and mean_profit_geo0 > mean_profit_geo1 and mean_profit_geo0 > mean_profit_geo2:\n",
    "    final_recommendation = \"geo_data_0\"\n",
    "elif risk_of_loss_geo1 < 2.5 and mean_profit_geo1 > mean_profit_geo0 and mean_profit_geo1 > mean_profit_geo2:\n",
    "    final_recommendation = \"geo_data_1\"\n",
    "elif risk_of_loss_geo2 < 2.5 and mean_profit_geo2 > mean_profit_geo0 and mean_profit_geo2 > mean_profit_geo1:\n",
    "    final_recommendation = \"geo_data_2\"\n",
    "else:\n",
    "    final_recommendation = \"Tidak ada rekomendasi yang memenuhi kriteria (risiko kerugian < 2.5%).\"\n",
    "\n",
    "# Tampilkan rekomendasi akhir\n",
    "print(\"\\nRekomendasi Akhir:\")\n",
    "print(final_recommendation)"
   ]
  },
  {
   "cell_type": "markdown",
   "metadata": {},
   "source": [
    "**Kesimpulan Tahap 5:**\n",
    "Berdasarkan analisis risiko dan keuntungan dengan menggunakan teknik bootstrapping, hasilnya adalah sebagai berikut:\n",
    "1. geo_data_0:\n",
    "    - Rata-rata Keuntungan: 10,411,961,258.29\n",
    "    - Interval Kepercayaan 95%: [10,378,896,700, 10,444,180,400]\n",
    "    - Risiko Kerugian (%): 0.0\n",
    "    \n",
    "2. geo_data_1:\n",
    "    - Rata-rata Keuntungan: 7,792,828,588.39\n",
    "    - Interval Kepercayaan 95%: [7,729,274,710, 7,857,358,230]\n",
    "    - Risiko Kerugian (%): 0.0\n",
    "    \n",
    "3. geo_data_2:\n",
    "    - Rata-rata Keuntungan: 10,698,222,816.97\n",
    "    - Interval Kepercayaan 95%: [10,669,144,600, 10,726,387,800]\n",
    "    - Risiko Kerugian (%): 0.0\n",
    "    \n",
    "Rekomendasi akhir berdasarkan analisis risiko dan keuntungan adalah geo_data_2. Walaupun geo_data_0 memiliki rata-rata keuntungan yang tinggi, namun geo_data_2 juga memiliki kinerja yang baik dan dipilih karena menghasilkan keuntungan yang tinggi dengan risiko kerugian yang dimiliki rendah."
   ]
  },
  {
   "cell_type": "markdown",
   "metadata": {},
   "source": [
    "## Kesimpulan Umum\n",
    "**Kesimpulan Tahap 1:**\n",
    "- Tidak ada nilai yang hilang pada dataset.\n",
    "- Tidak ada duplikasi data pada setiap wilayah.\n",
    "\n",
    "**Kesimpulan Tahap 2 (Analisis Hasil):**\n",
    "- Geo_data_1 memiliki kinerja model yang paling baik dengan nilai RMSE yang rendah. Hal ini menunjukkan bawwa pediksi volume pemesanan cenderung akurat\n",
    "\n",
    "**Kesimpulan Tahap 3:**\n",
    "- Volume pemesanan minimum yang diperlukan untuk menghindari kerugian = 22.22 unit barel. \n",
    "- Jumlah rata-rata pemesanan di setiap wilayah:\n",
    "    - geo_data_0: 92.55 unit\n",
    "    - geo_data_1: 69.28 unit\n",
    "    - geo_data_2: 95.10 unit\n",
    "    \n",
    "**Kesimpulan Tahap 4:**\n",
    "- Wilayah dengan target volume tertinggi: geo_data_0\n",
    "- Keuntungan yang diperoleh:\n",
    "    - Keuntungan di geo_data_0: 139,656,545.12\n",
    "    - Keuntungan di geo_data_1: 124,900,928.92\n",
    "    - Keuntungan di geo_data_2: 134,745,493.99\n",
    "    \n",
    "Jadi, berdasarkan prediksi model dan target volume pemesanan tertinggi, wilayah yang dipilih untuk investasi adalah geo_data_0, yang memberikan keuntungan yang lebih tinggi dibandingkan dengan wilayah lainnya.\n",
    "\n",
    "**Kesimpulan Tahap 5:**\n",
    "\n",
    "Berdasarkan analisis risiko dan keuntungan dengan menggunakan teknik bootstrapping, hasilnya adalah sebagai berikut:\n",
    "1. geo_data_0:\n",
    "    - Rata-rata Keuntungan: 10,411,961,258.29\n",
    "    - Interval Kepercayaan 95%: [10,378,896,700, 10,444,180,400]\n",
    "    - Risiko Kerugian (%): 0.0\n",
    "    \n",
    "2. geo_data_1:\n",
    "    - Rata-rata Keuntungan: 7,792,828,588.39\n",
    "    - Interval Kepercayaan 95%: [7,729,274,710, 7,857,358,230]\n",
    "    - Risiko Kerugian (%): 0.0\n",
    "    \n",
    "3. geo_data_2:\n",
    "    - Rata-rata Keuntungan: 10,698,222,816.97\n",
    "    - Interval Kepercayaan 95%: [10,669,144,600, 10,726,387,800]\n",
    "    - Risiko Kerugian (%): 0.0\n",
    "    \n",
    "Rekomendasi akhir berdasarkan analisis risiko dan keuntungan adalah geo_data_2. Walaupun geo_data_0 memiliki rata-rata keuntungan yang tinggi, namun geo_data_2 juga memiliki kinerja yang baik dan dipilih karena menghasilkan keuntungan yang tinggi dengan risiko kerugian yang dimiliki rendah."
   ]
  }
 ],
 "metadata": {
  "kernelspec": {
   "display_name": "Python 3 (ipykernel)",
   "language": "python",
   "name": "python3"
  },
  "language_info": {
   "codemirror_mode": {
    "name": "ipython",
    "version": 3
   },
   "file_extension": ".py",
   "mimetype": "text/x-python",
   "name": "python",
   "nbconvert_exporter": "python",
   "pygments_lexer": "ipython3",
   "version": "3.11.7"
  },
  "toc": {
   "base_numbering": 1,
   "nav_menu": {},
   "number_sections": true,
   "sideBar": true,
   "skip_h1_title": true,
   "title_cell": "Table of Contents",
   "title_sidebar": "Contents",
   "toc_cell": false,
   "toc_position": {
    "height": "calc(100% - 180px)",
    "left": "10px",
    "top": "150px",
    "width": "214.312px"
   },
   "toc_section_display": true,
   "toc_window_display": true
  }
 },
 "nbformat": 4,
 "nbformat_minor": 2
}
